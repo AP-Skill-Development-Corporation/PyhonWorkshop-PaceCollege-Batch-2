{
 "cells": [
  {
   "cell_type": "markdown",
   "metadata": {},
   "source": [
    "# Headings\n",
    "\n",
    "# Python\n",
    "\n",
    "## C-Lang\n",
    "\n",
    "### Java\n",
    "\n",
    "#### Csharp\n",
    "\n",
    "\n",
    "# Bold\n",
    "\n",
    "\n",
    "\n",
    "**Markdown**\n",
    "\n",
    "# Italic\n",
    "\n",
    "*Hello*\n",
    "\n",
    "\n",
    "# Both Bold And Italic\n",
    "\n",
    "***How Are You***\n",
    "\n",
    "\n",
    "# How to Handle Images\n",
    "\n",
    "## Follow Two ways\n",
    "\n",
    "**Offline**\n",
    "\n",
    "<img src=\"person.png\" height=100px width=100px>\n",
    "\n",
    "**On-Line**\n",
    "\n",
    "<img src=\"https://encrypted-tbn0.gstatic.com/images?q=tbn:ANd9GcQqM34HaI_modWQ5bPm0fZ16mgwIFed9IAB4w&usqp=CAU\" height=100px width=100px>\n",
    "\n",
    "\n",
    "# Bullet Points\n",
    "\n",
    "* Languages\n",
    "    - cLang\n",
    "    + Python\n",
    "    * Java\n",
    "- Webpages\n",
    "    + Html\n",
    "    - css\n",
    "    - Js\n",
    "+ Documentation\n",
    "    + ms word\n",
    "    - markdown\n",
    "    + Technical\n",
    "    \n",
    "# Backtrick\n",
    "\n",
    "Welcome to `Pythonworkshop`\n",
    "\n",
    "\n",
    "# Block Quotes\n",
    "\n",
    "> Welcome\n",
    "\n",
    "> Python\n",
    "\n",
    "# Link\n",
    "\n",
    "[PaceCollege](https://pace.ac.in)\n",
    "\n"
   ]
  },
  {
   "cell_type": "markdown",
   "metadata": {},
   "source": [
    "\n",
    "# Introduction to Python\n",
    "\n",
    "# History of Python\n",
    "\n",
    "# Features of Python\n",
    "\n",
    "# Keywords or Reservedwords  in Python\n",
    "\n",
    "# Operators in Python\n",
    "\n"
   ]
  },
  {
   "cell_type": "markdown",
   "metadata": {},
   "source": [
    "# Introduction to Python\n",
    "\n",
    "#### In Python We have 5 different keys\n",
    "   + HighLevel Language\n",
    "   + Object oriented Programming(oops)\n",
    "   + Interpeted\n",
    "   + DynamicProgramming\n",
    "   + Multilevel Programming\n",
    "   \n",
    "# History of Python\n",
    "\n",
    "\n",
    "## Monty `python` fly circus\n",
    "\n",
    "+ In 1989 started Implimentation of python\n",
    "\n",
    "+ In 1991 Implimented 0.9 version\n",
    "\n",
    "+ In 1994 Implimemted 1.0 version with features of lambda,map,filter,reduce\n",
    "\n",
    "+ In 2000 Implimnted 2.0 vesion wlth features of datastructures Like List,Tuple,Dictionary,Sets..etc\n",
    "\n",
    "+ In 2008 Republised 3.0 version with features large no of libraries,grabagecollection And Fastworking Updating\n",
    "\n",
    "\n",
    "# Features of Python\n",
    "\n",
    "+ Easy to Learn & Easy to Write\n",
    "\n",
    "+ crossplatform\n",
    "\n",
    "+ Scalable\n",
    "\n",
    "+ Portable\n",
    "\n",
    "- Scripting\n",
    "\n"
   ]
  },
  {
   "cell_type": "code",
   "execution_count": 11,
   "metadata": {},
   "outputs": [
    {
     "data": {
      "text/plain": [
       "['False',\n",
       " 'None',\n",
       " 'True',\n",
       " 'and',\n",
       " 'as',\n",
       " 'assert',\n",
       " 'async',\n",
       " 'await',\n",
       " 'break',\n",
       " 'class',\n",
       " 'continue',\n",
       " 'def',\n",
       " 'del',\n",
       " 'elif',\n",
       " 'else',\n",
       " 'except',\n",
       " 'finally',\n",
       " 'for',\n",
       " 'from',\n",
       " 'global',\n",
       " 'if',\n",
       " 'import',\n",
       " 'in',\n",
       " 'is',\n",
       " 'lambda',\n",
       " 'nonlocal',\n",
       " 'not',\n",
       " 'or',\n",
       " 'pass',\n",
       " 'raise',\n",
       " 'return',\n",
       " 'try',\n",
       " 'while',\n",
       " 'with',\n",
       " 'yield']"
      ]
     },
     "execution_count": 11,
     "metadata": {},
     "output_type": "execute_result"
    }
   ],
   "source": [
    "# Keywords or Rederved words in python\n",
    "import keyword as k\n",
    "\n",
    "dir(keyword)\n",
    "\n",
    "k.kwlist"
   ]
  },
  {
   "cell_type": "code",
   "execution_count": null,
   "metadata": {},
   "outputs": [
    {
     "name": "stdout",
     "output_type": "stream",
     "text": [
      "\n",
      "Welcome to Python 3.7's help utility!\n",
      "\n",
      "If this is your first time using Python, you should definitely check out\n",
      "the tutorial on the Internet at https://docs.python.org/3.7/tutorial/.\n",
      "\n",
      "Enter the name of any module, keyword, or topic to get help on writing\n",
      "Python programs and using Python modules.  To quit this help utility and\n",
      "return to the interpreter, just type \"quit\".\n",
      "\n",
      "To get a list of available modules, keywords, symbols, or topics, type\n",
      "\"modules\", \"keywords\", \"symbols\", or \"topics\".  Each module also comes\n",
      "with a one-line summary of what it does; to list the modules whose name\n",
      "or summary contain a given string such as \"spam\", type \"modules spam\".\n",
      "\n",
      "help> modules\n",
      "\n",
      "Please wait a moment while I gather a list of all available modules...\n",
      "\n"
     ]
    },
    {
     "name": "stderr",
     "output_type": "stream",
     "text": [
      "C:\\ProgramData\\Anaconda3\\lib\\site-packages\\IPython\\kernel\\__init__.py:13: ShimWarning: The `IPython.kernel` package has been deprecated since IPython 4.0.You should import from ipykernel or jupyter_client instead.\n",
      "  \"You should import from ipykernel or jupyter_client instead.\", ShimWarning)\n",
      "WARNING: AstropyDeprecationWarning: astropy.utils.compat.futures is now deprecated - use concurrent.futures instead [astropy.utils.compat.futures]\n",
      "C:\\ProgramData\\Anaconda3\\lib\\site-packages\\dask\\config.py:168: YAMLLoadWarning: calling yaml.load() without Loader=... is deprecated, as the default Loader is unsafe. Please read https://msg.pyyaml.org/load for full details.\n",
      "  data = yaml.load(f.read()) or {}\n",
      "C:\\ProgramData\\Anaconda3\\lib\\site-packages\\distributed\\config.py:20: YAMLLoadWarning: calling yaml.load() without Loader=... is deprecated, as the default Loader is unsafe. Please read https://msg.pyyaml.org/load for full details.\n",
      "  defaults = yaml.load(f)\n",
      "C:\\ProgramData\\Anaconda3\\lib\\site-packages\\nltk\\twitter\\__init__.py:22: UserWarning: The twython library has not been installed. Some functionality from the twitter package will not be available.\n",
      "  \"The twython library has not been installed. \"\n",
      "C:\\ProgramData\\Anaconda3\\lib\\site-packages\\skimage\\novice\\__init__.py:103: UserWarning: The `skimage.novice` module was deprecated in version 0.14. It will be removed in 0.16.\n",
      "  warnings.warn(\"The `skimage.novice` module was deprecated in version 0.14. \"\n",
      "C:\\ProgramData\\Anaconda3\\lib\\site-packages\\skimage\\viewer\\utils\\core.py:10: UserWarning: Recommended matplotlib backend is `Agg` for full skimage.viewer functionality.\n",
      "  warn(\"Recommended matplotlib backend is `Agg` for full \"\n",
      "C:\\ProgramData\\Anaconda3\\lib\\site-packages\\sphinx\\websupport\\__init__.py:25: RemovedInSphinx20Warning: sphinx.websupport module is now provided as sphinxcontrib-websupport. sphinx.websupport will be removed at Sphinx-2.0. Please use the package instead.\n",
      "  RemovedInSphinx20Warning)\n",
      "C:\\ProgramData\\Anaconda3\\lib\\site-packages\\qtawesome\\iconic_font.py:276: UserWarning: You need to have a running QApplication to use QtAwesome!\n",
      "  warnings.warn(\"You need to have a running \"\n",
      "C:\\ProgramData\\Anaconda3\\lib\\pkgutil.py:107: VisibleDeprecationWarning: zmq.eventloop.minitornado is deprecated in pyzmq 14.0 and will be removed.\n",
      "    Install tornado itself to use zmq with the tornado IOLoop.\n",
      "    \n",
      "  yield from walk_packages(path, info.name+'.', onerror)\n"
     ]
    },
    {
     "name": "stdout",
     "output_type": "stream",
     "text": [
      "Crypto              builtins            mistune             soupsieve\n",
      "Cython              bz2                 mkl                 sphinx\n",
      "IPython             cProfile            mkl_fft             sphinxcontrib\n",
      "OpenSSL             calendar            mkl_random          spyder\n",
      "PIL                 certifi             mmap                spyder_breakpoints\n",
      "PyQt5               cffi                mmapfile            spyder_io_dcm\n",
      "__future__          cgi                 mmsystem            spyder_io_hdf5\n",
      "_abc                cgitb               modulefinder        spyder_kernels\n",
      "_ast                chardet             more_itertools      spyder_profiler\n",
      "_asyncio            chunk               mpmath              spyder_pylint\n",
      "_bisect             click               msgpack             sqlalchemy\n",
      "_blake2             cloudpickle         msilib              sqlite3\n",
      "_bootlocale         clyent              msvcrt              sre_compile\n",
      "_bz2                cmath               multipledispatch    sre_constants\n",
      "_cffi_backend       cmd                 multiprocessing     sre_parse\n",
      "_codecs             code                navigator_updater   ssl\n",
      "_codecs_cn          codecs              nbconvert           sspi\n",
      "_codecs_hk          codeop              nbformat            sspicon\n",
      "_codecs_iso2022     collections         netbios             stat\n",
      "_codecs_jp          colorama            netrc               statistics\n",
      "_codecs_kr          colorsys            networkx            statsmodels\n",
      "_codecs_tw          commctrl            nltk                storemagic\n",
      "_collections        compileall          nntplib             string\n",
      "_collections_abc    comtypes            nose                stringprep\n",
      "_compat_pickle      concurrent          notebook            struct\n",
      "_compression        conda               nt                  subprocess\n",
      "_contextvars        conda_build         ntpath              sunau\n",
      "_csv                conda_env           ntsecuritycon       symbol\n",
      "_ctypes             conda_package_handling nturl2path          sympy\n",
      "_ctypes_test        conda_verify        numba               sympyprinting\n",
      "_datetime           configparser        numbers             symtable\n",
      "_decimal            contextlib          numexpr             sys\n",
      "_dummy_thread       contextlib2         numpy               sysconfig\n",
      "_elementtree        contextvars         numpydoc            tables\n",
      "_functools          copy                odbc                tabnanny\n",
      "_hashlib            copyreg             olefile             tarfile\n",
      "_heapq              crypt               opcode              tblib\n",
      "_imp                cryptography        openpyxl            telnetlib\n",
      "_io                 csv                 operator            tempfile\n",
      "_json               ctypes              optparse            terminado\n",
      "_locale             curl                os                  test\n",
      "_lsprof             curses              packaging           test_data\n",
      "_lzma               cwp                 pandas              test_path\n",
      "_markupbase         cycler              pandocfilters       test_pycosat\n",
      "_md5                cython              parser              testpath\n",
      "_msi                cythonmagic         parso               tests\n",
      "_multibytecodec     cytoolz             partd               textwrap\n",
      "_multiprocessing    dask                past                this\n",
      "_nsis               dataclasses         path                threading\n",
      "_opcode             datetime            pathlib             time\n",
      "_operator           dateutil            pathlib2            timeit\n",
      "_osx_support        dbi                 patsy               timer\n",
      "_overlapped         dbm                 pdb                 tkinter\n",
      "_pickle             dde                 pep8                tlz\n",
      "_py_abc             decimal             perfmon             token\n",
      "_pydecimal          decorator           pickle              tokenize\n",
      "_pyio               defusedxml          pickleshare         toolz\n",
      "_pylief             difflib             pickletools         tornado\n",
      "_pyrsistent_version dis                 pip                 tqdm\n",
      "_pytest             distributed         pipes               trace\n",
      "_queue              distutils           pkg_resources       traceback\n",
      "_random             doctest             pkginfo             tracemalloc\n",
      "_sha1               docutils            pkgutil             traitlets\n",
      "_sha256             dummy_threading     platform            tty\n",
      "_sha3               easy_install        plistlib            turtle\n",
      "_sha512             email               pluggy              turtledemo\n",
      "_signal             encodings           ply                 types\n",
      "_sitebuiltins       ensurepip           poplib              typing\n",
      "_socket             entrypoints         posixpath           unicodecsv\n",
      "_sqlite3            enum                pprint              unicodedata\n",
      "_sre                errno               profile             unittest\n",
      "_ssl                et_xmlfile          prometheus_client   urllib\n",
      "_stat               fastcache           prompt_toolkit      urllib3\n",
      "_string             faulthandler        pstats              uu\n",
      "_strptime           filecmp             psutil              uuid\n",
      "_struct             fileinput           pty                 venv\n",
      "_symtable           filelock            pvectorc            warnings\n",
      "_system_path        flask               py                  wave\n",
      "_testbuffer         fnmatch             py_compile          wcwidth\n",
      "_testcapi           formatter           pyclbr              weakref\n",
      "_testconsole        fractions           pycodestyle         webbrowser\n",
      "_testimportmultiple ftplib              pycosat             webencodings\n",
      "_testmultiphase     functools           pycparser           werkzeug\n",
      "_thread             future              pycurl              wheel\n",
      "_threading_local    gc                  pydoc               widgetsnbextension\n",
      "_tkinter            genericpath         pydoc_data          win2kras\n",
      "_tracemalloc        getopt              pyexpat             win32api\n",
      "_warnings           getpass             pyflakes            win32clipboard\n",
      "_weakref            gettext             pygments            win32com\n",
      "_weakrefset         gevent              pylab               win32con\n",
      "_win32sysloader     glob                pylint              win32console\n",
      "_winapi             glob2               pyodbc              win32cred\n",
      "_winxptheme         greenlet            pyparsing           win32crypt\n",
      "_yaml               gzip                pyreadline          win32cryptcon\n",
      "abc                 h5py                pyrsistent          win32event\n",
      "adodbapi            hashlib             pytest              win32evtlog\n",
      "afxres              heapdict            pytest_arraydiff    win32evtlogutil\n",
      "aifc                heapq               pytest_doctestplus  win32file\n",
      "alabaster           hmac                pytest_openfiles    win32gui\n",
      "anaconda_navigator  html                pytest_remotedata   win32gui_struct\n",
      "anaconda_project    html5lib            pythoncom           win32help\n",
      "antigravity         http                pytz                win32inet\n",
      "argparse            idlelib             pywin               win32inetcon\n",
      "array               idna                pywin32_testutil    win32job\n",
      "asn1crypto          imageio             pywintypes          win32lz\n",
      "ast                 imagesize           pywt                win32net\n",
      "astroid             imaplib             pyximport           win32netcon\n",
      "astropy             imghdr              qtawesome           win32pdh\n",
      "asynchat            imp                 qtconsole           win32pdhquery\n",
      "asyncio             importlib           qtpy                win32pdhutil\n",
      "asyncore            importlib_metadata  queue               win32pipe\n",
      "atexit              inspect             quopri              win32print\n",
      "atomicwrites        io                  random              win32process\n",
      "attr                ipaddress           rasutil             win32profile\n",
      "audioop             ipykernel           re                  win32ras\n",
      "autoreload          ipykernel_launcher  readline            win32rcparser\n",
      "babel               ipython_genutils    regcheck            win32security\n"
     ]
    },
    {
     "name": "stdout",
     "output_type": "stream",
     "text": [
      "backcall            ipywidgets          regutil             win32service\n",
      "backports           isapi               reprlib             win32serviceutil\n",
      "base64              isort               requests            win32timezone\n",
      "bdb                 isympy              rlcompleter         win32trace\n",
      "binascii            itertools           rmagic              win32traceutil\n",
      "binhex              itsdangerous        rope                win32transaction\n",
      "binstar_client      jdcal               ruamel_yaml         win32ts\n",
      "bisect              jedi                run                 win32ui\n",
      "bitarray            jinja2              runpy               win32uiole\n",
      "bkcharts            json                sched               win32verstamp\n",
      "bleach              jsonschema          scipy               win32wnet\n",
      "bokeh               jupyter             scripts             win_inet_pton\n",
      "boto                jupyter_client      seaborn             win_unicode_console\n",
      "bottleneck          jupyter_console     secrets             wincertstore\n",
      "brain_argparse      jupyter_core        select              winerror\n",
      "brain_attrs         jupyterlab          selectors           winioctlcon\n",
      "brain_builtin_inference jupyterlab_server   send2trash          winnt\n",
      "brain_collections   keyring             servicemanager      winperf\n",
      "brain_curses        keyword             setuptools          winpty\n",
      "brain_dateutil      kiwisolver          shelve              winreg\n",
      "brain_fstrings      lazy_object_proxy   shlex               winsound\n",
      "brain_functools     lib2to3             shutil              winxpgui\n",
      "brain_gi            libarchive          signal              winxptheme\n",
      "brain_hashlib       libfuturize         simplegeneric       wrapt\n",
      "brain_http          libpasteurize       singledispatch      wsgiref\n",
      "brain_io            lief                singledispatch_helpers xdrlib\n",
      "brain_mechanize     linecache           sip                 xlrd\n",
      "brain_multiprocessing llvmlite            sipconfig           xlsxwriter\n",
      "brain_namedtuple_enum locale              sipdistutils        xlwings\n",
      "brain_nose          locket              site                xlwt\n",
      "brain_numpy         logging             six                 xml\n",
      "brain_pkg_resources lxml                skimage             xmlrpc\n",
      "brain_pytest        lzma                sklearn             xmltodict\n",
      "brain_qt            macpath             smtpd               xxsubtype\n",
      "brain_random        mailbox             smtplib             yaml\n",
      "brain_re            mailcap             sndhdr              zict\n",
      "brain_six           markupsafe          snowballstemmer     zipapp\n",
      "brain_ssl           marshal             socket              zipfile\n",
      "brain_subprocess    math                socketserver        zipimport\n",
      "brain_threading     matplotlib          socks               zipp\n",
      "brain_typing        mccabe              sockshandler        zlib\n",
      "brain_uuid          menuinst            sortedcollections   zmq\n",
      "bs4                 mimetypes           sortedcontainers    \n",
      "\n",
      "Enter any module name to get more help.  Or, type \"modules spam\" to search\n",
      "for modules whose name or summary contain the string \"spam\".\n",
      "\n"
     ]
    }
   ],
   "source": [
    "help()"
   ]
  },
  {
   "cell_type": "markdown",
   "metadata": {},
   "source": [
    "# operators\n",
    "\n",
    "\n",
    "+ Arthematic Operator (+,-,*,/,%,**,//)\n",
    "+ Relational or Comparision Operator(>,<,<=,>=,==,!=)\n",
    "+ Assignment Operator (+=,-=,*=,/=,**=,//=)\n",
    "+ Logical Operator (and ,or ,not)\n",
    "+ Bitwise Operator (&,|,^,>>,<<)\n",
    "+ Membership Operator (in, not in)\n",
    "+ Identity Operator (is, is not)"
   ]
  },
  {
   "cell_type": "code",
   "execution_count": 10,
   "metadata": {},
   "outputs": [
    {
     "name": "stdout",
     "output_type": "stream",
     "text": [
      "30\n",
      "-10\n",
      "200\n",
      "0.5\n",
      "10\n",
      "100000000000000000000\n",
      "100000000000000000000\n",
      "0\n"
     ]
    }
   ],
   "source": [
    "a=10\n",
    "b=20\n",
    "print(a+b)\n",
    "print(a-b)\n",
    "print(a*b)\n",
    "print(a/b)\n",
    "print(a%b)\n",
    "print(a**b)\n",
    "print(pow(10,20))\n",
    "print(a//b)"
   ]
  },
  {
   "cell_type": "code",
   "execution_count": 12,
   "metadata": {},
   "outputs": [
    {
     "name": "stdout",
     "output_type": "stream",
     "text": [
      "True\n",
      "False\n",
      "False\n",
      "True\n"
     ]
    }
   ],
   "source": [
    "# Relational Operators\n",
    "\n",
    "x=100\n",
    "y=90\n",
    "\n",
    "print(x>y)\n",
    "print(x<y)\n",
    "print(x==y)\n",
    "print(x!=y)"
   ]
  },
  {
   "cell_type": "code",
   "execution_count": 22,
   "metadata": {},
   "outputs": [
    {
     "name": "stdout",
     "output_type": "stream",
     "text": [
      "46656.0\n"
     ]
    }
   ],
   "source": [
    "# Assignment Operators\n",
    "\n",
    "p=10\n",
    "\n",
    "p+=40\n",
    "\n",
    "p-=20\n",
    "\n",
    "p*=2\n",
    "\n",
    "p/=3\n",
    "\n",
    "p//=3\n",
    "\n",
    "p**=6\n",
    "\n",
    "print(p)\n"
   ]
  },
  {
   "cell_type": "code",
   "execution_count": 23,
   "metadata": {},
   "outputs": [
    {
     "name": "stdout",
     "output_type": "stream",
     "text": [
      "False\n",
      "False\n",
      "False\n",
      "True\n"
     ]
    }
   ],
   "source": [
    "# Logical operator\n",
    "# And \n",
    "print(False and False)\n",
    "print(False and True)\n",
    "print(True and False)\n",
    "print(True and True)\n"
   ]
  },
  {
   "cell_type": "code",
   "execution_count": 24,
   "metadata": {},
   "outputs": [
    {
     "name": "stdout",
     "output_type": "stream",
     "text": [
      "False\n",
      "True\n",
      "True\n",
      "True\n"
     ]
    }
   ],
   "source": [
    "# or \n",
    "print(False or False)\n",
    "print(False or True)\n",
    "print(True or False)\n",
    "print(True or True)"
   ]
  },
  {
   "cell_type": "code",
   "execution_count": 25,
   "metadata": {},
   "outputs": [
    {
     "name": "stdout",
     "output_type": "stream",
     "text": [
      "True\n",
      "True\n",
      "True\n",
      "False\n"
     ]
    }
   ],
   "source": [
    "# not\n",
    "print(not(False and False))\n",
    "print(not(False and True))\n",
    "print(not(True and False))\n",
    "print(not(True and True))"
   ]
  },
  {
   "cell_type": "code",
   "execution_count": 26,
   "metadata": {},
   "outputs": [
    {
     "name": "stdout",
     "output_type": "stream",
     "text": [
      "True\n",
      "False\n",
      "False\n",
      "False\n"
     ]
    }
   ],
   "source": [
    "# not\n",
    "print(not(False or False))\n",
    "print(not(False or True))\n",
    "print(not(True or False))\n",
    "print(not(True or True))"
   ]
  },
  {
   "cell_type": "code",
   "execution_count": 31,
   "metadata": {},
   "outputs": [
    {
     "name": "stdout",
     "output_type": "stream",
     "text": [
      "True\n",
      "True\n",
      "False\n",
      "False\n",
      "True\n",
      "False\n"
     ]
    }
   ],
   "source": [
    "print(10>5 and 20>8)\n",
    "\n",
    "print(100<101 or 99>50)\n",
    "\n",
    "print(50>55 and 45<100)\n",
    "\n",
    "print(5==5 and 5!=5)\n",
    "\n",
    "print(5==5 or 5!=5)\n",
    "\n",
    "print(not(10==10  and 50!=49))"
   ]
  },
  {
   "cell_type": "code",
   "execution_count": 40,
   "metadata": {},
   "outputs": [
    {
     "name": "stdout",
     "output_type": "stream",
     "text": [
      "2\n",
      "15\n",
      "1\n"
     ]
    }
   ],
   "source": [
    "# Bit wise Operators\n",
    "\n",
    "print(2&2)\n",
    "print(10|5)\n",
    "print(5^4)"
   ]
  },
  {
   "cell_type": "code",
   "execution_count": 46,
   "metadata": {
    "scrolled": true
   },
   "outputs": [
    {
     "name": "stdout",
     "output_type": "stream",
     "text": [
      "True\n",
      "False\n"
     ]
    }
   ],
   "source": [
    "# Membership Operator\n",
    "\n",
    "a=\"welcome to python workshop\"\n",
    "\n",
    "print('to' in a)\n",
    "\n",
    "print('to' not in a)\n"
   ]
  },
  {
   "cell_type": "code",
   "execution_count": 50,
   "metadata": {},
   "outputs": [
    {
     "name": "stdout",
     "output_type": "stream",
     "text": [
      "False\n",
      "True\n"
     ]
    }
   ],
   "source": [
    "# Identity Operators\n",
    "x=100\n",
    "y=1000\n",
    "\n",
    "print(x == y)\n",
    "\n",
    "print(x is not y)\n"
   ]
  },
  {
   "cell_type": "code",
   "execution_count": 51,
   "metadata": {},
   "outputs": [
    {
     "name": "stdout",
     "output_type": "stream",
     "text": [
      "10\n",
      "10\n",
      "10\n"
     ]
    }
   ],
   "source": [
    "# Single value in multiple Variables\n",
    "a=b=c=10\n",
    "print(a)\n",
    "print(b)\n",
    "print(c)"
   ]
  },
  {
   "cell_type": "code",
   "execution_count": 56,
   "metadata": {},
   "outputs": [
    {
     "name": "stdout",
     "output_type": "stream",
     "text": [
      "10\n",
      "20\n",
      "30\n"
     ]
    }
   ],
   "source": [
    "# Multiple values in multiple Variables\n",
    "a,b,c=10,20,30\n",
    "print(a)\n",
    "print(b)\n",
    "print(c)\n"
   ]
  },
  {
   "cell_type": "code",
   "execution_count": 62,
   "metadata": {},
   "outputs": [
    {
     "name": "stdout",
     "output_type": "stream",
     "text": [
      "Addition of two numbers is 110\n",
      "Addition of 10 + 100 = 110\n",
      "Sub of 10 - 100 = -90\n",
      "Mul of 10 * 100 = 1000 \n"
     ]
    }
   ],
   "source": [
    "# Static Vaiable\n",
    "# addition of two numbers is 110\n",
    "# Addition of 10 + 20 = 110  1. Commasepration,Formatmethod,Formatspecificer\n",
    "a=10\n",
    "b=100\n",
    "\n",
    "print(\"Addition of two numbers is\",a+b)\n",
    "\n",
    "print('Addition of',a,'+',b,'=',a+b)\n",
    "\n",
    "print('Sub of %d - %d = %d'%(a,b,a-b))\n",
    "\n",
    "print('Mul of {0} * {1} = {2} '.format(a,b,a*b))\n",
    "\n",
    "\n",
    "\n",
    "\n"
   ]
  },
  {
   "cell_type": "code",
   "execution_count": 68,
   "metadata": {},
   "outputs": [
    {
     "name": "stdout",
     "output_type": "stream",
     "text": [
      "enter the x value:-100\n",
      "enter the y value:-200\n",
      "Addition 100 + 200 = 300 \n"
     ]
    }
   ],
   "source": [
    "# Dynamic Values\n",
    "\n",
    "x=int(input('enter the x value:-'))\n",
    "y=int(input('enter the y value:-'))\n",
    "\n",
    "print('Addition %d + %d = %d '%(x,y,x+y))"
   ]
  },
  {
   "cell_type": "code",
   "execution_count": 70,
   "metadata": {},
   "outputs": [
    {
     "name": "stdout",
     "output_type": "stream",
     "text": [
      "enter the x value:-100\n",
      "enter the y value:-522\n",
      "enter the z value:-455\n",
      "Final Result is 237610\n"
     ]
    }
   ],
   "source": [
    "# Expression\n",
    "x=int(input('enter the x value:-'))\n",
    "y=int(input('enter the y value:-'))\n",
    "z=int(input('enter the z value:-'))\n",
    "result=x+y*z\n",
    "print('Final Result is',result)\n"
   ]
  },
  {
   "cell_type": "code",
   "execution_count": 79,
   "metadata": {},
   "outputs": [
    {
     "name": "stdout",
     "output_type": "stream",
     "text": [
      "welcome to python\n",
      "welcome to python\n",
      "welcome to python\n"
     ]
    }
   ],
   "source": [
    "# Comments in python\n",
    "\n",
    "#1. Single line Comment\n",
    "\n",
    "# welcome to python\n",
    "\n",
    "# Multiline comment\n",
    "\n",
    "\"\"\"\n",
    "welcome to python\n",
    "welcome to python\n",
    "welcome to python\"\"\"\n",
    "\n",
    "print('''welcome to python\n",
    "welcome to python\n",
    "welcome to python''')\n"
   ]
  },
  {
   "cell_type": "code",
   "execution_count": 81,
   "metadata": {},
   "outputs": [
    {
     "data": {
      "text/plain": [
       "'if condition:\\n    statements\\n    \\nelif condition:\\n    statements\\nelse:\\n    statements'"
      ]
     },
     "execution_count": 81,
     "metadata": {},
     "output_type": "execute_result"
    }
   ],
   "source": [
    "# Conditionl Statements\n",
    "\n",
    "# + if \n",
    "\n",
    "# + elif\n",
    "\n",
    "# + else\n",
    "\n",
    "\n",
    "#Syntax\n",
    "\n",
    "'''if condition:\n",
    "    statements\n",
    "    \n",
    "elif condition:\n",
    "    statements\n",
    "else:\n",
    "    statements'''\n",
    "\n"
   ]
  },
  {
   "cell_type": "code",
   "execution_count": 83,
   "metadata": {},
   "outputs": [
    {
     "name": "stdout",
     "output_type": "stream",
     "text": [
      "Enter the Value11\n",
      "11 is Odd Number\n"
     ]
    }
   ],
   "source": [
    "n1=int(input('Enter the Value'))\n",
    "if n1%2==0:\n",
    "    print(n1,'is Even Number')\n",
    "else:\n",
    "    print(n1,'is Odd Number')"
   ]
  },
  {
   "cell_type": "code",
   "execution_count": 84,
   "metadata": {},
   "outputs": [
    {
     "name": "stdout",
     "output_type": "stream",
     "text": [
      "Enter the Value51\n",
      "51 is Odd Number\n"
     ]
    }
   ],
   "source": [
    "n2=int(input('Enter the Value'))\n",
    "if n2%2==1:  # n2%2!=0 \n",
    "    print(n2,'is Odd Number')\n",
    "else:\n",
    "    print(n2,'is Even Number')"
   ]
  },
  {
   "cell_type": "markdown",
   "metadata": {},
   "source": [
    " # Write a Program to print Days\n",
    " \n",
    " #### User Take 0-7 Numbers \n",
    " \n",
    " #### 0 is sunday\n",
    " \n",
    " #### 7 is Saturday\n",
    " \n",
    " ### User can give above 7 -->print (invalid day)\n",
    " \n",
    "# Take 2 Inputs From  User\n",
    "\n",
    "## First input username\n",
    "\n",
    "## Second input Password\n",
    "\n",
    "### Both Condition True\n",
    "\n",
    "### Print Welcome Current username\n",
    "\n",
    "#### Otherwise Invalid Username or Password\n",
    "\n",
    "\n",
    "# Write a program to print user given the values\n",
    "\n",
    "### User can Give the a-z or A-z -->print Alphabet\n",
    "\n",
    "### User can Give the 0-9 -->print digit\n",
    "\n",
    "### User can Give the @,#, $ ,%,^,()-->SpecialSymbol"
   ]
  },
  {
   "cell_type": "code",
   "execution_count": 85,
   "metadata": {},
   "outputs": [],
   "source": [
    "a = 12627389345464687867987089765.4444443445354423343443243"
   ]
  },
  {
   "cell_type": "code",
   "execution_count": 86,
   "metadata": {},
   "outputs": [
    {
     "data": {
      "text/plain": [
       "float"
      ]
     },
     "execution_count": 86,
     "metadata": {},
     "output_type": "execute_result"
    }
   ],
   "source": [
    "type(a)"
   ]
  },
  {
   "cell_type": "code",
   "execution_count": 87,
   "metadata": {},
   "outputs": [
    {
     "data": {
      "text/plain": [
       "str"
      ]
     },
     "execution_count": 87,
     "metadata": {},
     "output_type": "execute_result"
    }
   ],
   "source": [
    "s = 'apssdc'\n",
    "type(s)"
   ]
  },
  {
   "cell_type": "code",
   "execution_count": 94,
   "metadata": {},
   "outputs": [
    {
     "data": {
      "text/plain": [
       "bool"
      ]
     },
     "execution_count": 94,
     "metadata": {},
     "output_type": "execute_result"
    }
   ],
   "source": [
    "c =True\n",
    "type(c)"
   ]
  },
  {
   "cell_type": "code",
   "execution_count": 91,
   "metadata": {},
   "outputs": [],
   "source": [
    "c = 10+45j\n"
   ]
  },
  {
   "cell_type": "code",
   "execution_count": 92,
   "metadata": {},
   "outputs": [],
   "source": [
    "d = complex(27,35)"
   ]
  },
  {
   "cell_type": "code",
   "execution_count": 93,
   "metadata": {},
   "outputs": [
    {
     "data": {
      "text/plain": [
       "complex"
      ]
     },
     "execution_count": 93,
     "metadata": {},
     "output_type": "execute_result"
    }
   ],
   "source": [
    "type(d)"
   ]
  },
  {
   "cell_type": "code",
   "execution_count": 95,
   "metadata": {},
   "outputs": [
    {
     "data": {
      "text/plain": [
       "'True'"
      ]
     },
     "execution_count": 95,
     "metadata": {},
     "output_type": "execute_result"
    }
   ],
   "source": [
    "str(c)"
   ]
  },
  {
   "cell_type": "code",
   "execution_count": 96,
   "metadata": {},
   "outputs": [
    {
     "data": {
      "text/plain": [
       "'(27+35j)'"
      ]
     },
     "execution_count": 96,
     "metadata": {},
     "output_type": "execute_result"
    }
   ],
   "source": [
    "str(d)"
   ]
  },
  {
   "cell_type": "code",
   "execution_count": 99,
   "metadata": {},
   "outputs": [
    {
     "data": {
      "text/plain": [
       "1.0"
      ]
     },
     "execution_count": 99,
     "metadata": {},
     "output_type": "execute_result"
    }
   ],
   "source": [
    "s = '1'\n",
    "float(s)"
   ]
  },
  {
   "cell_type": "code",
   "execution_count": null,
   "metadata": {},
   "outputs": [],
   "source": []
  }
 ],
 "metadata": {
  "kernelspec": {
   "display_name": "Python 3",
   "language": "python",
   "name": "python3"
  },
  "language_info": {
   "codemirror_mode": {
    "name": "ipython",
    "version": 3
   },
   "file_extension": ".py",
   "mimetype": "text/x-python",
   "name": "python",
   "nbconvert_exporter": "python",
   "pygments_lexer": "ipython3",
   "version": "3.7.3"
  }
 },
 "nbformat": 4,
 "nbformat_minor": 2
}
