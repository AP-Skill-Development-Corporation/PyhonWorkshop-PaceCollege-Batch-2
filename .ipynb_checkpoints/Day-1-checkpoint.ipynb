{
 "cells": [
  {
   "cell_type": "markdown",
   "metadata": {},
   "source": [
    "# Headings\n",
    "\n",
    "# Python\n",
    "\n",
    "## C-Lang\n",
    "\n",
    "### Java\n",
    "\n",
    "#### Csharp\n",
    "\n",
    "\n",
    "# Bold\n",
    "\n",
    "\n",
    "\n",
    "**Markdown**\n",
    "\n",
    "# Italic\n",
    "\n",
    "*Hello*\n",
    "\n",
    "\n",
    "# Both Bold And Italic\n",
    "\n",
    "***How Are You***\n",
    "\n",
    "\n",
    "# How to Handle Images\n",
    "\n",
    "## Follow Two ways\n",
    "\n",
    "**Offline**\n",
    "\n",
    "<img src=\"person.png\" height=500px>\n",
    "\n",
    "**On-Line**\n",
    "\n",
    "\n",
    "\n"
   ]
  },
  {
   "cell_type": "code",
   "execution_count": null,
   "metadata": {},
   "outputs": [],
   "source": []
  }
 ],
 "metadata": {
  "kernelspec": {
   "display_name": "Python 3",
   "language": "python",
   "name": "python3"
  },
  "language_info": {
   "codemirror_mode": {
    "name": "ipython",
    "version": 3
   },
   "file_extension": ".py",
   "mimetype": "text/x-python",
   "name": "python",
   "nbconvert_exporter": "python",
   "pygments_lexer": "ipython3",
   "version": "3.7.3"
  }
 },
 "nbformat": 4,
 "nbformat_minor": 2
}
