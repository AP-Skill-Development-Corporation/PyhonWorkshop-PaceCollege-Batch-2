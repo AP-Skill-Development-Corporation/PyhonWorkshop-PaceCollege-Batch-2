{
 "cells": [
  {
   "cell_type": "code",
   "execution_count": 3,
   "metadata": {},
   "outputs": [
    {
     "name": "stdout",
     "output_type": "stream",
     "text": [
      "enter string:abc124@#$\n",
      "alphabets =  3 ['a', 'b', 'c']\n",
      "digits =  3 [1, 2, 4]\n",
      "special characters =  3 ['@', '#', '$']\n"
     ]
    }
   ],
   "source": [
    "# s = 'abc123@#$'\n",
    "#out: alphabets = 3:\n",
    "#digits = 3\n",
    "#special characters = 3\n",
    "s = input('enter string:')\n",
    "ac= dc =scc= 0\n",
    "ah =  []\n",
    "dig = []\n",
    "sc = []\n",
    "for i in s:\n",
    "    if i.isalpha():\n",
    "        ac+=1\n",
    "        ah.append(i)\n",
    "    elif i.isdigit():\n",
    "        dc+=1\n",
    "        dig.append(int(i))\n",
    "    else:\n",
    "        scc+=1\n",
    "        sc.append(i)\n",
    "print('alphabets = ',ac,ah)\n",
    "print('digits = ',dc,dig)\n",
    "print('special characters = ',scc,sc)\n",
    "        "
   ]
  },
  {
   "cell_type": "code",
   "execution_count": 5,
   "metadata": {},
   "outputs": [
    {
     "data": {
      "text/plain": [
       "{1: 2, 2: 2, 3: 2, 4: 2, 5: 1}"
      ]
     },
     "execution_count": 5,
     "metadata": {},
     "output_type": "execute_result"
    }
   ],
   "source": [
    "l = [1,1,2,3,4,2,3,4,5]\n",
    "li = list(set(l))\n",
    "d = {}\n",
    "for i in li:\n",
    "    d[i] = l.count(i)\n",
    "d"
   ]
  },
  {
   "cell_type": "code",
   "execution_count": null,
   "metadata": {},
   "outputs": [],
   "source": []
  }
 ],
 "metadata": {
  "kernelspec": {
   "display_name": "Python 3",
   "language": "python",
   "name": "python3"
  },
  "language_info": {
   "codemirror_mode": {
    "name": "ipython",
    "version": 3
   },
   "file_extension": ".py",
   "mimetype": "text/x-python",
   "name": "python",
   "nbconvert_exporter": "python",
   "pygments_lexer": "ipython3",
   "version": "3.7.3"
  }
 },
 "nbformat": 4,
 "nbformat_minor": 2
}
